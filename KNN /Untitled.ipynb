{
 "cells": [
  {
   "cell_type": "code",
   "execution_count": 9,
   "metadata": {},
   "outputs": [
    {
     "name": "stdout",
     "output_type": "stream",
     "text": [
      "[('blue', 121), ('red', 148), ('blue', 221), ('red', 231)]\n"
     ]
    }
   ],
   "source": [
    "print(sorted([('blue', 122),('red', 231),('red', 148), ('blue',221)], key = lambda x: x[1]))\n"
   ]
  },
  {
   "cell_type": "code",
   "execution_count": 18,
   "metadata": {},
   "outputs": [
    {
     "data": {
      "text/plain": [
       "[(12, 'blue'), (22, 'blue'), (23, 'red'), (32, 'red'), (332, 'red')]"
      ]
     },
     "execution_count": 18,
     "metadata": {},
     "output_type": "execute_result"
    }
   ],
   "source": [
    "tuple1 = (12, \"blue\")\n",
    "tuple2 = (23, \"red\")\n",
    "tuple3 = (32, \"red\")\n",
    "tuple4 = (22, \"blue\")\n",
    "tuples = []\n",
    "tuples.append(tuple1)\n",
    "tuples.append(tuple2)\n",
    "tuples.append(tuple3)\n",
    "tuples.append(tuple4)\n",
    "tuples.append((332, \"red\"))\n",
    "sorted(tuples, key = lambda x: x[0])"
   ]
  },
  {
   "cell_type": "code",
   "execution_count": 22,
   "metadata": {},
   "outputs": [
    {
     "name": "stdout",
     "output_type": "stream",
     "text": [
      "{'blue': 4, 'red': 1, 'green': 1, 'yellow': 5}\n",
      "('yellow', 5)\n"
     ]
    }
   ],
   "source": [
    "thisdict =\t{\n",
    "  \"blue\": 1,\n",
    "  \"red\": 1,\n",
    "  \"green\": 1\n",
    "}\n",
    "\n",
    "if \"yellow\" in thisdict:\n",
    "    thisdict[\"yellow\"]+= 1\n",
    "else:\n",
    "    thisdict[\"yellow\"] = 1\n",
    "\n",
    "thisdict[\"yellow\"] += 4\n",
    "thisdict[\"blue\"] += 3\n",
    "print(thisdict)\n",
    "\n",
    "thisdict_d = sorted(thisdict.items(), key=lambda x: x[1], reverse = True)\n",
    "print(thisdict_d[0])\n"
   ]
  },
  {
   "cell_type": "code",
   "execution_count": null,
   "metadata": {},
   "outputs": [],
   "source": [
    "a = \"a!b@c#d$\"\n",
    "b = \"!@#$\"\n",
    "for char in b:\n",
    "    a = a.replace(char,\"\")\n",
    "\n",
    "print(a)"
   ]
  },
  {
   "cell_type": "code",
   "execution_count": null,
   "metadata": {},
   "outputs": [],
   "source": []
  }
 ],
 "metadata": {
  "kernelspec": {
   "display_name": "Python 3",
   "language": "python",
   "name": "python3"
  },
  "language_info": {
   "codemirror_mode": {
    "name": "ipython",
    "version": 3
   },
   "file_extension": ".py",
   "mimetype": "text/x-python",
   "name": "python",
   "nbconvert_exporter": "python",
   "pygments_lexer": "ipython3",
   "version": "3.7.4"
  }
 },
 "nbformat": 4,
 "nbformat_minor": 2
}

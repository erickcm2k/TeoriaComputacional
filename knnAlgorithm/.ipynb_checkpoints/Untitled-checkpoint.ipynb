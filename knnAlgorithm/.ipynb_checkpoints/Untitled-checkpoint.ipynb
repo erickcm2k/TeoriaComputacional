{
 "cells": [
  {
   "cell_type": "code",
   "execution_count": 9,
   "metadata": {},
   "outputs": [
    {
     "name": "stdout",
     "output_type": "stream",
     "text": [
      "[('blue', 121), ('red', 148), ('blue', 221), ('red', 231)]\n"
     ]
    }
   ],
   "source": [
    "print(sorted([('blue', 122),('red', 231),('red', 148), ('blue',221)], key = lambda x: x[1]))\n"
   ]
  },
  {
   "cell_type": "code",
   "execution_count": 18,
   "metadata": {},
   "outputs": [
    {
     "data": {
      "text/plain": [
       "[(12, 'blue'), (22, 'blue'), (23, 'red'), (32, 'red'), (332, 'red')]"
      ]
     },
     "execution_count": 18,
     "metadata": {},
     "output_type": "execute_result"
    }
   ],
   "source": [
    "tuple1 = (12, \"blue\")\n",
    "tuple2 = (23, \"red\")\n",
    "tuple3 = (32, \"red\")\n",
    "tuple4 = (22, \"blue\")\n",
    "tuples = []\n",
    "tuples.append(tuple1)\n",
    "tuples.append(tuple2)\n",
    "tuples.append(tuple3)\n",
    "tuples.append(tuple4)\n",
    "tuples.append((332, \"red\"))\n",
    "sorted(tuples, key = lambda x: x[0])"
   ]
  },
  {
   "cell_type": "code",
   "execution_count": 22,
   "metadata": {},
   "outputs": [
    {
     "name": "stdout",
     "output_type": "stream",
     "text": [
      "{'blue': 4, 'red': 1, 'green': 1, 'yellow': 5}\n",
      "('yellow', 5)\n"
     ]
    }
   ],
   "source": [
    "thisdict =\t{\n",
    "  \"blue\": 1,\n",
    "  \"red\": 1,\n",
    "  \"green\": 1\n",
    "}\n",
    "\n",
    "if \"yellow\" in thisdict:\n",
    "    thisdict[\"yellow\"]+= 1\n",
    "else:\n",
    "    thisdict[\"yellow\"] = 1\n",
    "\n",
    "thisdict[\"yellow\"] += 4\n",
    "thisdict[\"blue\"] += 3\n",
    "print(thisdict)\n",
    "\n",
    "thisdict_d = sorted(thisdict.items(), key=lambda x: x[1], reverse = True)\n",
    "print(thisdict_d[0])\n"
   ]
  },
  {
   "cell_type": "code",
   "execution_count": null,
   "metadata": {},
   "outputs": [],
   "source": [
    "a = \"a!b@c#d$\"\n",
    "b = \"!@#$\"\n",
    "for char in b:\n",
    "    a = a.replace(char,\"\")\n",
    "\n",
    "print(a)"
   ]
  },
  {
   "cell_type": "code",
   "execution_count": 29,
   "metadata": {},
   "outputs": [
    {
     "data": {
      "image/png": "[encoded data removed]",
      "text/plain": [
       "<Figure size 432x288 with 1 Axes>"
      ]
     },
     "metadata": {
      "needs_background": "light"
     },
     "output_type": "display_data"
    }
   ],
   "source": [
    "import matplotlib.pyplot as plt\n",
    "plt.plot([1, 2, 3, 4], [1, 4, 9, 10], 'vk')\n",
    "plt.plot([1, 5, 3, 3], [4, 5, 9, 10], 'vr')\n",
    "plt.ylabel('some numbers')\n",
    "plt.xlabel('some numbers')\n",
    "plt.show()"
   ]
  },
  {
   "cell_type": "code",
   "execution_count": 43,
   "metadata": {},
   "outputs": [
    {
     "name": "stdout",
     "output_type": "stream",
     "text": [
      "Column names are x, y, number\n",
      "\t (459, 259) color: 1.\n",
      "\t (738, 435) color: 1.\n",
      "\t (473, 315) color: 1.\n",
      "\t (1094, 605) color: 1.\n",
      "\t (610, 365) color: 1.\n",
      "\t (806, 488) color: 1.\n",
      "\t (768, 467) color: 1.\n",
      "\t (539, 302) color: 1.\n",
      "\t (472, 288) color: 1.\n",
      "\t (666, 410) color: 1.\n",
      "\t (519, 295) color: 1.\n",
      "\t (1093, 640) color: 1.\n",
      "\t (757, 454) color: 1.\n",
      "\t (493, 319) color: 1.\n",
      "\t (830, 523) color: 1.\n",
      "\t (630, 420) color: 1.\n",
      "\t (1300, 732) color: 5.\n",
      "\t (1089, 672) color: 5.\n",
      "\t (1095, 665) color: 5.\n",
      "\t (1097, 686) color: 5.\n",
      "\t (1372, 891) color: 5.\n",
      "\t (1214, 782) color: 5.\n",
      "\t (1253, 753) color: 5.\n",
      "\t (1318, 814) color: 5.\n",
      "\t (1547, 972) color: 5.\n",
      "\t (1383, 883) color: 5.\n",
      "\t (1509, 912) color: 5.\n",
      "\t (1441, 914) color: 5.\n",
      "\t (1365, 803) color: 5.\n",
      "\t (1316, 785) color: 5.\n",
      "\t (1440, 832) color: 5.\n",
      "\t (1353, 841) color: 5.\n",
      "\t (1098, 721) color: 7.\n",
      "\t (825, 610) color: 7.\n",
      "\t (769, 562) color: 7.\n",
      "\t (416, 926) color: 7.\n",
      "\t (1089, 761) color: 7.\n",
      "\t (1505, 981) color: 7.\n",
      "\t (1531, 991) color: 7.\n",
      "\t (1185, 791) color: 7.\n",
      "\t (1137, 806) color: 7.\n",
      "\t (1463, 936) color: 7.\n",
      "\t (1307, 854) color: 7 .\n",
      "\t (1072, 730) color: 7.\n",
      "\t (1394, 903) color: 7.\n",
      "\t (1252, 836) color: 7.\n",
      "\t (1141, 757) color: 7.\n",
      "\t (1448, 985) color: 7 .\n",
      "Processed 49 lines.\n"
     ]
    }
   ],
   "source": [
    "import csv\n",
    "\n",
    "with open('datasheet.txt') as csv_file:\n",
    "    csv_reader = csv.reader(csv_file, delimiter=',')\n",
    "    line_count = 0\n",
    "    for row in csv_reader:\n",
    "        if line_count == 0:\n",
    "            print(f'Column names are: {\", \".join(row)}')\n",
    "            line_count += 1\n",
    "        else:\n",
    "            print(f'\\t ({row[0]}, {row[1]}) color: {row[2]}.')\n",
    "            line_count += 1\n",
    "    print(f'Processed {line_count} lines.')"
   ]
  },
  {
   "cell_type": "code",
   "execution_count": null,
   "metadata": {},
   "outputs": [],
   "source": []
  }
 ],
 "metadata": {
  "kernelspec": {
   "display_name": "Python 3",
   "language": "python",
   "name": "python3"
  },
  "language_info": {
   "codemirror_mode": {
    "name": "ipython",
    "version": 3
   },
   "file_extension": ".py",
   "mimetype": "text/x-python",
   "name": "python",
   "nbconvert_exporter": "python",
   "pygments_lexer": "ipython3",
   "version": "3.7.6"
  }
 },
 "nbformat": 4,
 "nbformat_minor": 2
}
